{
  "nbformat": 4,
  "nbformat_minor": 0,
  "metadata": {
    "colab": {
      "name": "пр 2",
      "provenance": [],
      "collapsed_sections": []
    },
    "kernelspec": {
      "name": "python3",
      "display_name": "Python 3"
    }
  },
  "cells": [
    {
      "cell_type": "code",
      "metadata": {
        "id": "NfDUUb3TTVvl",
        "outputId": "413ba9ea-7b20-4cb5-b662-11786f75d31d",
        "colab": {
          "base_uri": "https://localhost:8080/",
          "height": 260
        }
      },
      "source": [
        "class SpaceShip:\n",
        "  def __init__(self):\n",
        "    self.hp = 100\n",
        "    self.speed = 13000\n",
        "    self.crew = 64\n",
        "    self.power_reserve = 56000\n",
        "\n",
        "  def __str__(self):\n",
        "    return \"SpaceShip: {}; {}; {}\".format(self.hp, self.speed, self.crew, self.power_reserve)\n",
        "        \n",
        "  def draw(self):\n",
        "    print('+-|--------|-+')\n",
        "    print('+      ПП    +')\n",
        "    print('+      ПП    +')\n",
        "    print('+--П------П--+')\n",
        "\n",
        "class StarDestroyer(SpaceShip):\n",
        "  def __init__(self):\n",
        "    super().__init__()\n",
        "    self.shields = 100\n",
        "    self.shields_enabled = False\n",
        "    self.weapons = [100] * 15\n",
        "\n",
        "  def __str__(self):\n",
        "    return \"StarDestroyer: {}; {}\".format(self.shields, self.weapons)\n",
        "\n",
        "  def shields_on(self):\n",
        "    self.shields_enabled = True\n",
        "\n",
        "  def shields_off(self):\n",
        "    self.shields_enabled = False\n",
        "\n",
        "  def hit(self):\n",
        "    if self.shields_enabled:\n",
        "        self.shields -= 10\n",
        "    else:\n",
        "      self.hp -= 10\n",
        "\n",
        "  def draw(self):\n",
        "    print(\"         /\\        \")\n",
        "    print(\"        /  \\       \")\n",
        "    print(\"       /    \\      \")\n",
        "    print(\"      / |  | \\     \")\n",
        "    print(\"     /        \\    \")\n",
        "    print(\"    /   /..\\   \\   \")\n",
        "    print(\"    +---+-+--+--+  \")\n",
        "    print(\"       |_| |_|     \")\n",
        "kor = StarDestroyer()\n",
        "print(kor.draw())\n",
        "\n",
        "kor = SpaceShip()\n",
        "print(kor.draw())\n",
        "\n"
      ],
      "execution_count": null,
      "outputs": [
        {
          "output_type": "stream",
          "text": [
            "         /\\        \n",
            "        /  \\       \n",
            "       /    \\      \n",
            "      / |  | \\     \n",
            "     /        \\    \n",
            "    /   /..\\   \\   \n",
            "    +---+-+--+--+  \n",
            "       |_| |_|     \n",
            "None\n",
            "+-|--------|-+\n",
            "+      ПП    +\n",
            "+      ПП    +\n",
            "+--П------П--+\n",
            "None\n"
          ],
          "name": "stdout"
        }
      ]
    },
    {
      "cell_type": "markdown",
      "metadata": {
        "id": "y5dD0tibCfX6"
      },
      "source": [
        "задание 1\n"
      ]
    },
    {
      "cell_type": "code",
      "metadata": {
        "id": "2H_5Vq_HaRD0",
        "outputId": "7e938fd2-757d-4a36-b275-b2822bd66c9f",
        "colab": {
          "base_uri": "https://localhost:8080/",
          "height": 87
        }
      },
      "source": [
        "class First:\n",
        "  color = \"red\"\n",
        "  def out(self):\n",
        "    print (self.color + \"!\")\n",
        "\n",
        "obj1 = First()\n",
        "obj2 = First()\n",
        "\n",
        "print(obj1.color)\n",
        "print(obj2.color)\n",
        "obj1.out()\n",
        "obj2.out()"
      ],
      "execution_count": null,
      "outputs": [
        {
          "output_type": "stream",
          "text": [
            "red\n",
            "red\n",
            "red!\n",
            "red!\n"
          ],
          "name": "stdout"
        }
      ]
    },
    {
      "cell_type": "markdown",
      "metadata": {
        "id": "gHrsxCImCsNj"
      },
      "source": [
        "задание 2.1. \n",
        "Напишите два скрипта представленных выше. Посмотрите, как они работают. Во второй программу добавьте еще одно свойство и один метод, позволяющий его менять. Создайте третий объект и измените все его свойства"
      ]
    },
    {
      "cell_type": "code",
      "metadata": {
        "id": "jXgAVhxecxTV",
        "outputId": "c3640ff3-eee1-4e8e-cbc5-b6a587bd1d8a",
        "colab": {
          "base_uri": "https://localhost:8080/",
          "height": 121
        }
      },
      "source": [
        "class Second:\n",
        "  color = \"red\"\n",
        "  form = \"circle\"\n",
        "  size = \"big\"\n",
        "  def changecolor(self,newcolor):\n",
        "    self.color = newcolor\n",
        "  def changeform(self,newform):\n",
        "    self.form = newform\n",
        "  def changesize(self,newsize):\n",
        "    self.size = newsize\n",
        "\n",
        "obj1 = Second()\n",
        "obj2 = Second()\n",
        "obj3 = Second()\n",
        "\n",
        "print(obj1.color, obj1.form, obj1.size)\n",
        "print(obj2.color, obj2.form, obj2.size )\n",
        "print(obj3.color, obj3.form, obj3.size)\n",
        "\n",
        "obj1.changecolor(\"green\")\n",
        "obj2.changecolor(\"blue\")\n",
        "obj2.changeform(\"oval\")\n",
        "\n",
        "print(obj1.color, obj1.form, obj1.size)\n",
        "print(obj2.color, obj2.form, obj2.size)\n",
        "\n",
        "obj3.changecolor(\"pink\")\n",
        "obj3.changeform(\"rectangle\")\n",
        "obj3.changesize(\"small\")\n",
        "print(obj3.color, obj3.form, obj3.size)"
      ],
      "execution_count": null,
      "outputs": [
        {
          "output_type": "stream",
          "text": [
            "red circle big\n",
            "red circle big\n",
            "red circle big\n",
            "green circle big\n",
            "blue oval big\n",
            "pink rectangle small\n"
          ],
          "name": "stdout"
        }
      ]
    },
    {
      "cell_type": "markdown",
      "metadata": {
        "id": "hdc8MaFlUtoK"
      },
      "source": [
        "задание 2.2.\n",
        "Напишите программу в стиле ООП, удовлетворяющую следующим условиям: в программе должны быть два класса и два объекта, принадлежащих разным классам; один объект с помощью метода своего класса должен так или иначе обрабатывать данные другого объекта: obj1.МЕТОД(obj2.СВОЙСТВО)."
      ]
    },
    {
      "cell_type": "code",
      "metadata": {
        "id": "Tg60AY1VUwYl",
        "outputId": "a912e80a-2bdb-4eac-c3f6-3c050bf2fbed",
        "colab": {
          "base_uri": "https://localhost:8080/"
        }
      },
      "source": [
        "class Plant:\n",
        "  def __init__(self,c,s,sm):\n",
        "    self.color=c\n",
        "    self.size=s\n",
        "    self.smell=sm\n",
        "\n",
        "  def outing(self):\n",
        "    print(self.color,self.size,self.smell)\n",
        "\n",
        "class Flavor:\n",
        "    def stench(self,smell):\n",
        "      if smell==\"вонючий\":\n",
        "        print(\"прикройте нос\")\n",
        "      else:\n",
        "        print(\"а пахне як!\")\n",
        "    \n",
        "\n",
        "\n",
        "obj1=Flavor()\n",
        "obj2=Plant(\"зеленый\",\"огромный\",\"вонючий\")\n",
        "obj2.outing()\n",
        "obj1.stench(obj2.smell)\n",
        "obj3=Plant(\"зеленый\",\"огромный\",\"мускусный\")\n",
        "obj3.outing()\n",
        "obj1.stench(obj3.smell)\n",
        "  "
      ],
      "execution_count": 2,
      "outputs": [
        {
          "output_type": "stream",
          "text": [
            "зеленый огромный вонючий\n",
            "прикройте нос\n",
            "зеленый огромный мускусный\n",
            "а пахне як!\n"
          ],
          "name": "stdout"
        }
      ]
    },
    {
      "cell_type": "markdown",
      "metadata": {
        "id": "N10o8Sv4C14w"
      },
      "source": [
        "задание 3"
      ]
    },
    {
      "cell_type": "code",
      "metadata": {
        "id": "AU9jUib4iduI",
        "outputId": "8f282f8c-1bf1-4157-bb32-3311c632bb58",
        "colab": {
          "base_uri": "https://localhost:8080/",
          "height": 52
        }
      },
      "source": [
        "class YesInit:\n",
        "  def __init__(self,one,two):\n",
        "   self.fname = one\n",
        "   self.sname = two\n",
        "\n",
        "obj1 = YesInit(\"Peter\", \"Ok\")\n",
        "\n",
        "print(obj1.fname, obj1.sname)\n",
        "\n",
        "class NoInit:\n",
        "  def names(self,one,two):\n",
        "   self.fname = one\n",
        "   self.sname = two\n",
        "\n",
        "obj1 = NoInit()\n",
        "obj1.names(\"Peter\", \"Ok\")\n",
        "\n",
        "print (obj1.fname, obj1.sname)"
      ],
      "execution_count": null,
      "outputs": [
        {
          "output_type": "stream",
          "text": [
            "Peter Ok\n",
            "Peter Ok\n"
          ],
          "name": "stdout"
        }
      ]
    },
    {
      "cell_type": "markdown",
      "metadata": {
        "id": "snjjk7wHWFAa"
      },
      "source": [
        "задание 4"
      ]
    },
    {
      "cell_type": "code",
      "metadata": {
        "id": "jrwYoLIGWH1H",
        "outputId": "8cb57094-f0a6-4bb6-f527-742d2708530b",
        "colab": {
          "base_uri": "https://localhost:8080/",
          "height": 87
        }
      },
      "source": [
        "class YesInit:\n",
        "  def __init__(self,one=\"noname\",two=\"nonametoo\"):\n",
        "    self.fname = one\n",
        "    self.sname = two\n",
        "\n",
        "obj1 = YesInit(\"Sasha\",\"Tu\")\n",
        "obj2 = YesInit()\n",
        "obj3 = YesInit(\"Spartak\")\n",
        "obj4 = YesInit(two=\"Harry\")\n",
        "\n",
        "print (obj1.fname, obj1.sname)\n",
        "print (obj2.fname, obj2.sname)\n",
        "print (obj3.fname, obj3.sname)\n",
        "print (obj4.fname, obj4.sname)"
      ],
      "execution_count": null,
      "outputs": [
        {
          "output_type": "stream",
          "text": [
            "Sasha Tu\n",
            "noname nonametoo\n",
            "Spartak nonametoo\n",
            "noname Harry\n"
          ],
          "name": "stdout"
        }
      ]
    },
    {
      "cell_type": "markdown",
      "metadata": {
        "id": "t46hb0O3XvBJ"
      },
      "source": [
        "задание 5 (c ошибкой)\n"
      ]
    },
    {
      "cell_type": "code",
      "metadata": {
        "id": "cpTy0_3fXxVI",
        "outputId": "573cabff-1581-4109-a9be-55246fc2f280",
        "colab": {
          "base_uri": "https://localhost:8080/",
          "height": 131
        }
      },
      "source": [
        "class fruits:\n",
        "  def __init__(self,w,n=0): \n",
        "    self.what = w\n",
        "    self.numbers = n\n",
        "\n",
        "f1 = fruits(\"apple\", 150)\n",
        "f2 = fruits(\"pineapple\")\n",
        "\n",
        "print (f1.what,f1.numbers)\n",
        "print (f2.what,f2.numbers)\n",
        "\n",
        "class fruits:\n",
        "  def __init__(self,n=0,w):           #ERROR\n",
        "    self.what = w\n",
        "    self.numbers = n\n",
        "\n",
        "f1 = fruits(150,\"apple\")\n",
        "f2 = fruits(\"pineapple\")\n",
        "\n",
        "print (f1.what,f1.numbers)\n",
        "print (f2.what,f2.numbers)\n",
        "\n",
        "\n",
        "\n"
      ],
      "execution_count": null,
      "outputs": [
        {
          "output_type": "error",
          "ename": "SyntaxError",
          "evalue": "ignored",
          "traceback": [
            "\u001b[0;36m  File \u001b[0;32m\"<ipython-input-4-64dce572d99f>\"\u001b[0;36m, line \u001b[0;32m13\u001b[0m\n\u001b[0;31m    def __init__(self,n=0,w):\u001b[0m\n\u001b[0m                ^\u001b[0m\n\u001b[0;31mSyntaxError\u001b[0m\u001b[0;31m:\u001b[0m non-default argument follows default argument\n"
          ]
        }
      ]
    },
    {
      "cell_type": "markdown",
      "metadata": {
        "id": "MVIa68l8wsWg"
      },
      "source": [
        "задание 6"
      ]
    },
    {
      "cell_type": "code",
      "metadata": {
        "id": "xxCtwppVwuUr",
        "outputId": "096b6e75-c934-466a-afe0-5d4ffd45f0fe",
        "colab": {
          "base_uri": "https://localhost:8080/",
          "height": 87
        }
      },
      "source": [
        "class Building:\n",
        "  def __init__(self, w, c, n=0):\n",
        "    self.what = w\n",
        "    self.color = c\n",
        "    self.numbers = n\n",
        "    self.mwhere(n)\n",
        "\n",
        "  def mwhere(self,n):\n",
        "    if n <= 0:\n",
        "       self.where = \"отсутствуют\"\n",
        "    elif 0 < n < 100:\n",
        "      self.where = \"малый склад\"\n",
        "    else:\n",
        "      self.where = \"основной склад\"\n",
        "\n",
        "  def plus(self,p):\n",
        "    self.numbers = self.numbers + p\n",
        "    self.mwhere(self.numbers)\n",
        "  def minus(self,m):\n",
        "    self.numbers = self.numbers - m\n",
        "    self.mwhere(self.numbers)\n",
        "\n",
        "m1 = Building(\"доски\", \"белые\",50)\n",
        "m2 = Building(\"доски\", \"коричневые\", 300)\n",
        "m3 = Building(\"кирпичи\", \"белые\")\n",
        "\n",
        "print(m1.what,m1.color,m1.where)\n",
        "print(m2.what,m2.color,m2.where)\n",
        "print(m3.what,m3.color,m3.where)\n",
        "  \n",
        "m1.plus(500)\n",
        "print(m1.numbers, m1.where)\n"
      ],
      "execution_count": null,
      "outputs": [
        {
          "output_type": "stream",
          "text": [
            "доски белые малый склад\n",
            "доски коричневые основной склад\n",
            "кирпичи белые отсутствуют\n",
            "550 основной склад\n"
          ],
          "name": "stdout"
        }
      ]
    },
    {
      "cell_type": "markdown",
      "metadata": {
        "id": "YXfvJeu-Z_oK"
      },
      "source": [
        "самостоятельно придумайте класс, содержащий конструктор. создайте на его основе несколько объектов."
      ]
    },
    {
      "cell_type": "code",
      "metadata": {
        "id": "7QBiySYvYGpj",
        "outputId": "6c9fbd82-f176-4c2c-c9b8-0f1010bdd22e",
        "colab": {
          "base_uri": "https://localhost:8080/"
        }
      },
      "source": [
        "class Shop:\n",
        "  def __init__(self,f,c):\n",
        "    self.food = f\n",
        "    self.cost = c\n",
        "\n",
        "obj1 = Shop(\"chocolate\", \"2$\")\n",
        "obj2 = Shop(\"bread\", \"1$\")\n",
        "\n",
        "print(obj1.food, obj1.cost)\n",
        "print(obj2.food, obj2.cost)"
      ],
      "execution_count": null,
      "outputs": [
        {
          "output_type": "stream",
          "text": [
            "chocolate 2$\n",
            "bread 1$\n"
          ],
          "name": "stdout"
        }
      ]
    },
    {
      "cell_type": "markdown",
      "metadata": {
        "id": "xYBjTL13Dkys"
      },
      "source": [
        "задание 7 (с исправленной ошибкой)"
      ]
    },
    {
      "cell_type": "code",
      "metadata": {
        "id": "iyd4PFU4Dmsh",
        "outputId": "86dfe8a0-9248-4da6-e7cf-e6e1810c8fdd",
        "colab": {
          "base_uri": "https://localhost:8080/",
          "height": 87
        }
      },
      "source": [
        "class Things:\n",
        "  def __init__(self,n,t):\n",
        "    self.namething = n\n",
        "    self.total = t\n",
        "\n",
        "th1 = Things(\"table\", 5)\n",
        "th2 = Things(\"computer\", 7)\n",
        "\n",
        "print(th1.namething,th1.total)\n",
        "print(th2.namething,th2.total)\n",
        "\n",
        "th1.color = \"green\"\n",
        "th2.color = \"yellow\"\n",
        "\n",
        "print(th1.namething,th1.total,th1.color)\n",
        "print(th2.namething,th2.total,th2.color)\n"
      ],
      "execution_count": null,
      "outputs": [
        {
          "output_type": "stream",
          "text": [
            "table 5\n",
            "computer 7\n",
            "table 5 green\n",
            "computer 7 yellow\n"
          ],
          "name": "stdout"
        }
      ]
    },
    {
      "cell_type": "markdown",
      "metadata": {
        "id": "ywCAIOocJUJH"
      },
      "source": [
        "задание 8"
      ]
    },
    {
      "cell_type": "code",
      "metadata": {
        "id": "DyN7uBJTJWOx",
        "outputId": "341fb78c-5a1c-4a8c-aab0-1c982dfaa2f5",
        "colab": {
          "base_uri": "https://localhost:8080/"
        }
      },
      "source": [
        "class Table:\n",
        "  def __init__(self,l,w,h):\n",
        "    self.long = l\n",
        "    self.width = w\n",
        "    self.height = h \n",
        "\n",
        "  def outing(self):\n",
        "    print(self.long, self.width, self.height)\n",
        "\n",
        "class Kitchen(Table):\n",
        "  def howplaces(self,n):\n",
        "    if n < 2:\n",
        "      print(\"It is not kitchen table\")\n",
        "    else:\n",
        "      self.places = n\n",
        "\n",
        "  def outplaces(self):\n",
        "      print(self.places)\n",
        "\n",
        "t_room1 = Kitchen(2, 1, 0.5)\n",
        "t_room1.outing()\n",
        "t_room1.howplaces(5)\n",
        "t_room1.outplaces()\n",
        "\n",
        "t_2 = Table(1, 3, 0.7)\n",
        "t_2.outing()\n",
        "\n",
        "\n",
        "class Worker(Table):\n",
        "  def size(self,s):\n",
        "    if s==\"small\":\n",
        "      print(\"компьютерный стол\")\n",
        "    else:\n",
        "      print(\"обеденный стол\")\n",
        "\n",
        "\n",
        "t_3=Worker(3, 4, 1)\n",
        "t_3.size(\"small\")\n",
        "t_3.outing()\n",
        "  "
      ],
      "execution_count": 3,
      "outputs": [
        {
          "output_type": "stream",
          "text": [
            "2 1 0.5\n",
            "5\n",
            "1 3 0.7\n",
            "компьютерный стол\n",
            "3 4 1\n"
          ],
          "name": "stdout"
        }
      ]
    },
    {
      "cell_type": "markdown",
      "metadata": {
        "id": "WPBWgtFsNv4T"
      },
      "source": [
        "практическая"
      ]
    },
    {
      "cell_type": "code",
      "metadata": {
        "id": "0ebGnmUvhLXA",
        "outputId": "d6da4850-7763-496f-dccf-60c6967f5a05",
        "colab": {
          "base_uri": "https://localhost:8080/"
        }
      },
      "source": [
        "class Figure:\n",
        "  color=\"white\"\n",
        "  def changecolor(self,newcolor):\n",
        "    self.color=newcolor\n",
        "\n",
        "class Oval(Figure):\n",
        "  def __init__(self,s,h):\n",
        "    self.height=h\n",
        "    self.size=s\n",
        "\n",
        "class Square(Figure):\n",
        "   def __init__(self,l,wid,w):\n",
        "    self.length=l\n",
        "    self.width=wid\n",
        "    self.weight=w\n",
        "\n",
        "ov=Oval(2, 4)\n",
        "sq=Square(1, 2, 3)\n",
        "\n",
        "print(ov.height,ov.size,ov.color)\n",
        "print(sq.length,sq.width,sq.weight,sq.color)\n",
        "\n",
        "ov.changecolor(\"purple\")\n",
        "print(ov.height,ov.size,ov.color)\n"
      ],
      "execution_count": 13,
      "outputs": [
        {
          "output_type": "stream",
          "text": [
            "4 2 white\n",
            "1 2 3 white\n",
            "4 2 purple\n"
          ],
          "name": "stdout"
        }
      ]
    }
  ]
}