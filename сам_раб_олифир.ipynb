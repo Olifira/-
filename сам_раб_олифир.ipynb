{
  "nbformat": 4,
  "nbformat_minor": 0,
  "metadata": {
    "colab": {
      "name": "сам.раб_олифир",
      "provenance": [],
      "collapsed_sections": []
    },
    "kernelspec": {
      "name": "python3",
      "display_name": "Python 3"
    }
  },
  "cells": [
    {
      "cell_type": "markdown",
      "metadata": {
        "id": "PY5x4qWimPO7"
      },
      "source": [
        "Самостоятельная работа \"Создание типа данных \"класс\"\".\n",
        "Вариант 12"
      ]
    },
    {
      "cell_type": "markdown",
      "metadata": {
        "id": "GXQFyUadyggk"
      },
      "source": [
        "1. Создать класс с полями, указанными в индивидуальном задании.\n",
        "Книга: название,\n",
        "количество страниц,\n",
        "цена. \n",
        "Увеличить\n",
        "количество страниц\n",
        "на 10 .\n",
        "Уменьшить цену в два раза,\n",
        " если количество страниц\n",
        "больше 100 (после увеличения) .\n",
        "2. Реализовать в классе методы:\n",
        " - конструктор по умолчанию;\n",
        "- деструктор для освобождения памяти (с сообщением об уничтожении\n",
        "объекта);\n",
        "- функции обработки данных, указанные в индивидуальном задании;\n",
        "- функцию формирования строки информации об объекте.\n",
        "3. Создать проект для демонстрации работы: сформировать объекты со\n",
        "значениями-константами и с введенными с клавиатуры значениями полей\n",
        "объекта. В основной ветке программы создайте три объекта класса. Вывести\n",
        "результаты работы на экран.\n"
      ]
    },
    {
      "cell_type": "code",
      "metadata": {
        "id": "gU8DcQHRmLIT",
        "outputId": "3ae4d915-317f-4354-a9b2-7f091b2ac7a4",
        "colab": {
          "base_uri": "https://localhost:8080/"
        }
      },
      "source": [
        "class Book:\n",
        "  def __init__(self, t, n, p):        #конструктор\n",
        "    self.title = t\n",
        "    self.number = n\n",
        "    self.price = p\n",
        "  \n",
        "  def __del__(self):                                      #деструктор\n",
        "    print('Destroyed book with title:', self.title)\n",
        "\n",
        "  def plus(self, count):                                #увеличение стр.на 10\n",
        "    self.number = self.number + count \n",
        "    self.divide()\n",
        "   \n",
        "  def divide(self):                                    #уменьшение цены\n",
        "    if self.number > 100:\n",
        "      self.price = self.price // 2\n",
        "    \n",
        "  def print_info(self):                #представление инф-ции в виде строки\n",
        "     print('Title:',self.title,', Number:',self.number,', Price:',self.price, sep='')\n",
        "\n",
        "obj1 = Book(\"Hotel\", 189, 160)\n",
        "obj1.print_info()\n",
        "\n",
        "obj1.plus(10)\n",
        "obj1.print_info()\n",
        "\n",
        "book_info = input('Input book info. Use \",\" as separator: ')\n",
        "title, number, price = book_info.split(',')\n",
        "number = int(number)\n",
        "price = int(price)\n",
        "\n",
        "obj2 = Book(title, number, price)\n",
        "obj2.print_info()\n",
        "\n",
        "obj2.plus(10)\n",
        "obj2.print_info()\n"
      ],
      "execution_count": 36,
      "outputs": [
        {
          "output_type": "stream",
          "text": [
            "Delete\n",
            "Title:Hotel, Number:189, Price:160\n",
            "Title:Hotel, Number:199, Price:80\n",
            "Input book info. Use \",\" as separator: It, 105, 90\n",
            "Title:It, Number:105, Price:90\n",
            "Title:It, Number:115, Price:45\n"
          ],
          "name": "stdout"
        }
      ]
    }
  ]
}