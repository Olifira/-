{
  "nbformat": 4,
  "nbformat_minor": 0,
  "metadata": {
    "colab": {
      "name": "лаб6_статистика_олифир",
      "provenance": [],
      "collapsed_sections": [],
      "authorship_tag": "ABX9TyMU2/92pH6f4R82UPriRniG",
      "include_colab_link": true
    },
    "kernelspec": {
      "name": "python3",
      "display_name": "Python 3"
    },
    "language_info": {
      "name": "python"
    }
  },
  "cells": [
    {
      "cell_type": "markdown",
      "metadata": {
        "id": "view-in-github",
        "colab_type": "text"
      },
      "source": [
        "<a href=\"https://colab.research.google.com/github/Olifira/-/blob/main/%D0%BB%D0%B0%D0%B16_%D1%81%D1%82%D0%B0%D1%82%D0%B8%D1%81%D1%82%D0%B8%D0%BA%D0%B0_%D0%BE%D0%BB%D0%B8%D1%84%D0%B8%D1%80.ipynb\" target=\"_parent\"><img src=\"https://colab.research.google.com/assets/colab-badge.svg\" alt=\"Open In Colab\"/></a>"
      ]
    },
    {
      "cell_type": "code",
      "metadata": {
        "id": "8D8kUyExQOVP",
        "colab": {
          "base_uri": "https://localhost:8080/"
        },
        "outputId": "677b7c0d-bd1e-478a-c42c-6dfa1050df6e"
      },
      "source": [
        "from numpy.random import seed\n",
        "from numpy.random import randn\n",
        "from numpy import mean\n",
        "from numpy import std #среднеквадратичное (стандартное) отклонение значений элементов массива\n",
        "from numpy.random import seed\n",
        "from numpy.random import randn\n",
        "from matplotlib import pyplot\n",
        "from statsmodels.graphics.gofplots import qqplot\n",
        "from scipy.stats import shapiro\n",
        "from scipy.stats import normaltest\n",
        "from scipy.stats import anderson\n",
        "\n"
      ],
      "execution_count": 2,
      "outputs": [
        {
          "output_type": "stream",
          "text": [
            "/usr/local/lib/python3.7/dist-packages/statsmodels/tools/_testing.py:19: FutureWarning: pandas.util.testing is deprecated. Use the functions in the public API at pandas.testing instead.\n",
            "  import pandas.util.testing as tm\n"
          ],
          "name": "stderr"
        }
      ]
    },
    {
      "cell_type": "code",
      "metadata": {
        "colab": {
          "base_uri": "https://localhost:8080/"
        },
        "id": "oT32CYSlMyBV",
        "outputId": "749c6058-a68b-4adb-9cae-c4779ec87696"
      },
      "source": [
        "seed(1) # инициализирует генератор или по другому - задает его начальное состояние\n",
        "data = 5 * randn(100) + 50\n",
        "print('mean=%.3f stdv=%.3f' % (mean(data), std(data)))"
      ],
      "execution_count": null,
      "outputs": [
        {
          "output_type": "stream",
          "text": [
            "mean=50.303 stdv=4.426\n"
          ],
          "name": "stdout"
        }
      ]
    },
    {
      "cell_type": "code",
      "metadata": {
        "colab": {
          "base_uri": "https://localhost:8080/",
          "height": 265
        },
        "id": "K7P99scoMXPj",
        "outputId": "078c751a-01c4-43ad-fc0a-897e200fa16b"
      },
      "source": [
        "\n",
        "seed(1)\n",
        "data = 5 * randn(100) + 50\n",
        "pyplot.hist(data)\n",
        "pyplot.show()"
      ],
      "execution_count": null,
      "outputs": [
        {
          "output_type": "display_data",
          "data": {
            "image/png": "[encoded data removed]",
            "text/plain": [
              "<Figure size 432x288 with 1 Axes>"
            ]
          },
          "metadata": {
            "tags": [],
            "needs_background": "light"
          }
        }
      ]
    },
    {
      "cell_type": "code",
      "metadata": {
        "colab": {
          "base_uri": "https://localhost:8080/",
          "height": 279
        },
        "id": "dY10cWxkMpwq",
        "outputId": "088384f3-0530-4e9e-ada9-df55a472452c"
      },
      "source": [
        "\n",
        "seed(1)\n",
        "data = 5 * randn(100) + 50\n",
        "qqplot(data, line = 's')\n",
        "pyplot.show()"
      ],
      "execution_count": null,
      "outputs": [
        {
          "output_type": "display_data",
          "data": {
            "image/png": "[encoded data removed]",
            "text/plain": [
              "<Figure size 432x288 with 1 Axes>"
            ]
          },
          "metadata": {
            "tags": [],
            "needs_background": "light"
          }
        }
      ]
    },
    {
      "cell_type": "markdown",
      "metadata": {
        "id": "vAT7z-E30Z6t"
      },
      "source": [
        "Тест Шапиро-Вилка"
      ]
    },
    {
      "cell_type": "code",
      "metadata": {
        "colab": {
          "base_uri": "https://localhost:8080/"
        },
        "id": "a4o362nmNACo",
        "outputId": "273323e5-f46c-400a-ed4f-2e7f1083e965"
      },
      "source": [
        "seed(1)\n",
        "data = 5 * randn(100) + 50\n",
        "stat, p = shapiro(data)\n",
        "print('Statistics=%.3f, p = %.3f' % (stat, p))\n",
        "\n",
        "alpha = 0.05\n",
        "if p > alpha:\n",
        "  print('Sample looks Gaussian (fail to reject HO)')\n",
        "else:\n",
        "  print('Sample does not look Gaussian (reject HO)')"
      ],
      "execution_count": null,
      "outputs": [
        {
          "output_type": "stream",
          "text": [
            "Statistics=0.992, p = 0.822\n",
            "Sample looks Gaussian (fail to reject HO)\n"
          ],
          "name": "stdout"
        }
      ]
    },
    {
      "cell_type": "code",
      "metadata": {
        "colab": {
          "base_uri": "https://localhost:8080/"
        },
        "id": "QKeI9PwrNSf1",
        "outputId": "3ddc1abe-7a37-4ad6-f2a4-1f91d558d438"
      },
      "source": [
        "seed(1)\n",
        "data = 5 * randn(100) + 50\n",
        "stat, p = normaltest(data)\n",
        "print('Statistics=%.3f, p = %.3f' % (stat, p))\n",
        "\n",
        "alpha = 0.05\n",
        "if p > alpha:\n",
        "  print('Sample looks Gaussian (fail to reject HO)')\n",
        "else:\n",
        "  print('Sample does not look Gaussian (reject HO)')"
      ],
      "execution_count": null,
      "outputs": [
        {
          "output_type": "stream",
          "text": [
            "Statistics=0.102, p = 0.950\n",
            "Sample looks Gaussian (fail to reject HO)\n"
          ],
          "name": "stdout"
        }
      ]
    },
    {
      "cell_type": "markdown",
      "metadata": {
        "id": "8tAbczYX0f33"
      },
      "source": [
        "Тест Андерсона-Дарлинга"
      ]
    },
    {
      "cell_type": "code",
      "metadata": {
        "colab": {
          "base_uri": "https://localhost:8080/"
        },
        "id": "9fVuCMdkNfFD",
        "outputId": "8ee10c71-986e-4cf1-b8d8-8084a2bde0c6"
      },
      "source": [
        "seed(1)\n",
        "data = 5 * randn(100) + 50\n",
        "result = anderson(data)\n",
        "print('Statistic: %.3f' % result.statistic)\n",
        "\n",
        "p = 0\n",
        "for i in range(len(result.critical_values)):\n",
        "  sl, cv = result.significance_level[i], result.critical_values[i]\n",
        "  if result.statistic < result.critical_values[i]:\n",
        "    print('%.3f: %.3f, data looks normal (fail to reject HO)' % (sl, cv))\n",
        "  else:\n",
        "    print('%.3f: %.3f, data does not look normal (reject HO)' % (sl, cv))"
      ],
      "execution_count": null,
      "outputs": [
        {
          "output_type": "stream",
          "text": [
            "Statistic: 0.220\n",
            "15.000: 0.555, data looks normal (fail to reject HO)\n",
            "10.000: 0.632, data looks normal (fail to reject HO)\n",
            "5.000: 0.759, data looks normal (fail to reject HO)\n",
            "2.500: 0.885, data looks normal (fail to reject HO)\n",
            "1.000: 1.053, data looks normal (fail to reject HO)\n"
          ],
          "name": "stdout"
        }
      ]
    },
    {
      "cell_type": "markdown",
      "metadata": {
        "id": "Myeoyj9ZOXUZ"
      },
      "source": [
        "# **ИНДИВИДУАЛЬНОЕ** **ЗАДАНИЕ**"
      ]
    },
    {
      "cell_type": "markdown",
      "metadata": {
        "id": "1reD0cHFOe_j"
      },
      "source": [
        "Вариант 1"
      ]
    },
    {
      "cell_type": "code",
      "metadata": {
        "colab": {
          "base_uri": "https://localhost:8080/",
          "height": 197
        },
        "id": "e7bKbmeQ584D",
        "outputId": "9df50d7a-f44f-424a-efe2-ed6bad869ba5"
      },
      "source": [
        "import requests\n",
        "import pandas as pd\n",
        "import seaborn as sns\n",
        "import matplotlib.pyplot as plt\n",
        "import numpy as np\n",
        "\n",
        "#Importing the data from the webpage into a DataFrame\n",
        "url='https://en.wikipedia.org/wiki/Cinema_of_Russia#List_of_highest-grossing_films'\n",
        "req=requests.get(url)\n",
        "data=pd.read_html(req.text)\n",
        "df=data[1]\n",
        "df.head()"
      ],
      "execution_count": 12,
      "outputs": [
        {
          "output_type": "execute_result",
          "data": {
            "text/html": [
              "<div>\n",
              "<style scoped>\n",
              "    .dataframe tbody tr th:only-of-type {\n",
              "        vertical-align: middle;\n",
              "    }\n",
              "\n",
              "    .dataframe tbody tr th {\n",
              "        vertical-align: top;\n",
              "    }\n",
              "\n",
              "    .dataframe thead th {\n",
              "        text-align: right;\n",
              "    }\n",
              "</style>\n",
              "<table border=\"1\" class=\"dataframe\">\n",
              "  <thead>\n",
              "    <tr style=\"text-align: right;\">\n",
              "      <th></th>\n",
              "      <th>Rank</th>\n",
              "      <th>Title</th>\n",
              "      <th>Gross</th>\n",
              "      <th>Year</th>\n",
              "      <th>Genre</th>\n",
              "      <th>Details</th>\n",
              "      <th>Director</th>\n",
              "    </tr>\n",
              "  </thead>\n",
              "  <tbody>\n",
              "    <tr>\n",
              "      <th>0</th>\n",
              "      <td>1</td>\n",
              "      <td>Сталинград Stalingrad</td>\n",
              "      <td>$68,075,573</td>\n",
              "      <td>2013</td>\n",
              "      <td>War</td>\n",
              "      <td>A World War II film about Battle of Stalingrad</td>\n",
              "      <td>Fyodor Bondarchuk</td>\n",
              "    </tr>\n",
              "    <tr>\n",
              "      <th>1</th>\n",
              "      <td>2</td>\n",
              "      <td>Движение Вверх Going Vertical</td>\n",
              "      <td>$66,000,000</td>\n",
              "      <td>2017</td>\n",
              "      <td>Sports drama</td>\n",
              "      <td>About 1972 Olympic Men's Basketball Final</td>\n",
              "      <td>Anton Megerdichev</td>\n",
              "    </tr>\n",
              "    <tr>\n",
              "      <th>2</th>\n",
              "      <td>3</td>\n",
              "      <td>Ирония судьбы. Продолжение Irony of Fate: The ...</td>\n",
              "      <td>$55,639,114</td>\n",
              "      <td>2007</td>\n",
              "      <td>Romantic comedy</td>\n",
              "      <td>A Christmas film, the sequel to a 1976 film of...</td>\n",
              "      <td>Timur Bekmambetov</td>\n",
              "    </tr>\n",
              "    <tr>\n",
              "      <th>3</th>\n",
              "      <td>4</td>\n",
              "      <td>Холоп Serf</td>\n",
              "      <td>$47,500,000</td>\n",
              "      <td>2019</td>\n",
              "      <td>Comedy</td>\n",
              "      <td>NaN</td>\n",
              "      <td>Klim Shipenko</td>\n",
              "    </tr>\n",
              "    <tr>\n",
              "      <th>4</th>\n",
              "      <td>5</td>\n",
              "      <td>Дневной дозор Day Watch</td>\n",
              "      <td>$42,918,532</td>\n",
              "      <td>2006</td>\n",
              "      <td>Fantasy</td>\n",
              "      <td>Based on urban fantasy book series Dozory by S...</td>\n",
              "      <td>Timur Bekmambetov</td>\n",
              "    </tr>\n",
              "  </tbody>\n",
              "</table>\n",
              "</div>"
            ],
            "text/plain": [
              "   Rank  ...           Director\n",
              "0     1  ...  Fyodor Bondarchuk\n",
              "1     2  ...  Anton Megerdichev\n",
              "2     3  ...  Timur Bekmambetov\n",
              "3     4  ...      Klim Shipenko\n",
              "4     5  ...  Timur Bekmambetov\n",
              "\n",
              "[5 rows x 7 columns]"
            ]
          },
          "metadata": {
            "tags": []
          },
          "execution_count": 12
        }
      ]
    },
    {
      "cell_type": "code",
      "metadata": {
        "colab": {
          "base_uri": "https://localhost:8080/"
        },
        "id": "IFAsgeLM6Az1",
        "outputId": "97359b17-af03-43d9-8685-49e93b92d312"
      },
      "source": [
        "\n",
        "df.info()"
      ],
      "execution_count": 13,
      "outputs": [
        {
          "output_type": "stream",
          "text": [
            "<class 'pandas.core.frame.DataFrame'>\n",
            "RangeIndex: 30 entries, 0 to 29\n",
            "Data columns (total 7 columns):\n",
            " #   Column    Non-Null Count  Dtype \n",
            "---  ------    --------------  ----- \n",
            " 0   Rank      30 non-null     int64 \n",
            " 1   Title     30 non-null     object\n",
            " 2   Gross     30 non-null     object\n",
            " 3   Year      30 non-null     int64 \n",
            " 4   Genre     30 non-null     object\n",
            " 5   Details   26 non-null     object\n",
            " 6   Director  30 non-null     object\n",
            "dtypes: int64(2), object(5)\n",
            "memory usage: 1.8+ KB\n"
          ],
          "name": "stdout"
        }
      ]
    },
    {
      "cell_type": "code",
      "metadata": {
        "colab": {
          "base_uri": "https://localhost:8080/"
        },
        "id": "x7iqj6856EAI",
        "outputId": "815fa3b6-1b64-4a0c-eb46-e164cb70d70b"
      },
      "source": [
        "df['Gross']=df['Gross'].str.replace(r\"$\",\"\").str.replace(r\",\",\"\")\n",
        "df['Gross']=df['Gross'].astype('int64')\n",
        "df.info()\n",
        "df.drop(['Rank','Title', 'Genre', 'Details', 'Director'],axis=1,inplace=True)"
      ],
      "execution_count": 14,
      "outputs": [
        {
          "output_type": "stream",
          "text": [
            "<class 'pandas.core.frame.DataFrame'>\n",
            "RangeIndex: 30 entries, 0 to 29\n",
            "Data columns (total 7 columns):\n",
            " #   Column    Non-Null Count  Dtype \n",
            "---  ------    --------------  ----- \n",
            " 0   Rank      30 non-null     int64 \n",
            " 1   Title     30 non-null     object\n",
            " 2   Gross     30 non-null     int64 \n",
            " 3   Year      30 non-null     int64 \n",
            " 4   Genre     30 non-null     object\n",
            " 5   Details   26 non-null     object\n",
            " 6   Director  30 non-null     object\n",
            "dtypes: int64(3), object(4)\n",
            "memory usage: 1.8+ KB\n"
          ],
          "name": "stdout"
        }
      ]
    },
    {
      "cell_type": "code",
      "metadata": {
        "colab": {
          "base_uri": "https://localhost:8080/",
          "height": 197
        },
        "id": "xZYP-dZR6Jq6",
        "outputId": "530f189e-766d-4fca-b331-f2f2a67a8885"
      },
      "source": [
        "df.head()"
      ],
      "execution_count": 15,
      "outputs": [
        {
          "output_type": "execute_result",
          "data": {
            "text/html": [
              "<div>\n",
              "<style scoped>\n",
              "    .dataframe tbody tr th:only-of-type {\n",
              "        vertical-align: middle;\n",
              "    }\n",
              "\n",
              "    .dataframe tbody tr th {\n",
              "        vertical-align: top;\n",
              "    }\n",
              "\n",
              "    .dataframe thead th {\n",
              "        text-align: right;\n",
              "    }\n",
              "</style>\n",
              "<table border=\"1\" class=\"dataframe\">\n",
              "  <thead>\n",
              "    <tr style=\"text-align: right;\">\n",
              "      <th></th>\n",
              "      <th>Gross</th>\n",
              "      <th>Year</th>\n",
              "    </tr>\n",
              "  </thead>\n",
              "  <tbody>\n",
              "    <tr>\n",
              "      <th>0</th>\n",
              "      <td>68075573</td>\n",
              "      <td>2013</td>\n",
              "    </tr>\n",
              "    <tr>\n",
              "      <th>1</th>\n",
              "      <td>66000000</td>\n",
              "      <td>2017</td>\n",
              "    </tr>\n",
              "    <tr>\n",
              "      <th>2</th>\n",
              "      <td>55639114</td>\n",
              "      <td>2007</td>\n",
              "    </tr>\n",
              "    <tr>\n",
              "      <th>3</th>\n",
              "      <td>47500000</td>\n",
              "      <td>2019</td>\n",
              "    </tr>\n",
              "    <tr>\n",
              "      <th>4</th>\n",
              "      <td>42918532</td>\n",
              "      <td>2006</td>\n",
              "    </tr>\n",
              "  </tbody>\n",
              "</table>\n",
              "</div>"
            ],
            "text/plain": [
              "      Gross  Year\n",
              "0  68075573  2013\n",
              "1  66000000  2017\n",
              "2  55639114  2007\n",
              "3  47500000  2019\n",
              "4  42918532  2006"
            ]
          },
          "metadata": {
            "tags": []
          },
          "execution_count": 15
        }
      ]
    },
    {
      "cell_type": "code",
      "metadata": {
        "colab": {
          "base_uri": "https://localhost:8080/"
        },
        "id": "9FXoovPB6TEb",
        "outputId": "d759f213-a5ed-4edd-a242-41a147ca85da"
      },
      "source": [
        "nmp_gross = df['Gross'].to_numpy()\n",
        "nmp_year = df['Year'].to_numpy()\n",
        "nmp_gross"
      ],
      "execution_count": 16,
      "outputs": [
        {
          "output_type": "execute_result",
          "data": {
            "text/plain": [
              "array([68075573, 66000000, 55639114, 47500000, 42918532, 39539416,\n",
              "       38135878, 38067427, 33951015, 31505876, 30496695, 29523237,\n",
              "       27908763, 27544905, 26231525, 25646739, 25555809, 24965362,\n",
              "       24830497, 23305571, 22772019, 22213287, 21500000, 21015154,\n",
              "       20962988, 19390136, 19010585, 18500000, 18400000, 17808683])"
            ]
          },
          "metadata": {
            "tags": []
          },
          "execution_count": 16
        }
      ]
    },
    {
      "cell_type": "markdown",
      "metadata": {
        "id": "A2nG8ydt6kHG"
      },
      "source": [
        "Гистограммы"
      ]
    },
    {
      "cell_type": "code",
      "metadata": {
        "colab": {
          "base_uri": "https://localhost:8080/",
          "height": 295
        },
        "id": "1DOYbC_u6llX",
        "outputId": "d86ec6a2-f5de-43d4-e4ef-1b4ba47adb23"
      },
      "source": [
        "nmp_gross_sorted = np.sort(nmp_gross)\n",
        "fig, ax = plt.subplots()\n",
        "ax.hist(nmp_gross_sorted)\n",
        "ax.set_xlabel('Gross (mln $)')\n",
        "ax.set_ylabel('Frequency')\n",
        "ax.set_title('Visual checking data on being normal')\n",
        "ax.grid(True)\n",
        "plt.show()"
      ],
      "execution_count": 17,
      "outputs": [
        {
          "output_type": "display_data",
          "data": {
            "image/png": "[encoded data removed]",
            "text/plain": [
              "<Figure size 432x288 with 1 Axes>"
            ]
          },
          "metadata": {
            "tags": [],
            "needs_background": "light"
          }
        }
      ]
    },
    {
      "cell_type": "code",
      "metadata": {
        "colab": {
          "base_uri": "https://localhost:8080/",
          "height": 295
        },
        "id": "a5vl1bJs6rQ1",
        "outputId": "77fdd557-2f7b-417b-cda8-e5a4f002b492"
      },
      "source": [
        "nmp_year_sorted = np.sort(nmp_year)\n",
        "fig, ax = plt.subplots()\n",
        "ax.hist(nmp_year_sorted)\n",
        "ax.set_xlabel('Years')\n",
        "ax.set_ylabel('Frequency')\n",
        "ax.set_title('Visual checking data on being normal')\n",
        "ax.grid(True)\n",
        "plt.show()"
      ],
      "execution_count": 18,
      "outputs": [
        {
          "output_type": "display_data",
          "data": {
            "image/png": "[encoded data removed]",
            "text/plain": [
              "<Figure size 432x288 with 1 Axes>"
            ]
          },
          "metadata": {
            "tags": [],
            "needs_background": "light"
          }
        }
      ]
    },
    {
      "cell_type": "markdown",
      "metadata": {
        "id": "YqJBP7cx67_d"
      },
      "source": [
        "QQ"
      ]
    },
    {
      "cell_type": "code",
      "metadata": {
        "colab": {
          "base_uri": "https://localhost:8080/",
          "height": 295
        },
        "id": "Dl7-kpQJ61ZT",
        "outputId": "d92582fd-97e9-4f28-ed3f-edd001df7a0e"
      },
      "source": [
        "from statsmodels.graphics.gofplots import qqplot\n",
        "from matplotlib import pyplot\n",
        "\n",
        "qqplot(nmp_gross_sorted, line = 's',color='cyan')\n",
        "pyplot.title('Visual checking data (Gross (mln $)) on being normal')\n",
        "pyplot.show()"
      ],
      "execution_count": 19,
      "outputs": [
        {
          "output_type": "display_data",
          "data": {
            "image/png": "[encoded data removed]",
            "text/plain": [
              "<Figure size 432x288 with 1 Axes>"
            ]
          },
          "metadata": {
            "tags": [],
            "needs_background": "light"
          }
        }
      ]
    },
    {
      "cell_type": "code",
      "metadata": {
        "colab": {
          "base_uri": "https://localhost:8080/",
          "height": 295
        },
        "id": "2Pr3zXaZ7B3N",
        "outputId": "6d5a3e4b-95fc-4a79-c6ae-814636990ad0"
      },
      "source": [
        "from statsmodels.graphics.gofplots import qqplot\n",
        "from matplotlib import pyplot\n",
        "\n",
        "qqplot(nmp_year_sorted, line = 's',color='salmon')\n",
        "pyplot.title('Visual checking data (Years) on being normal')\n",
        "pyplot.show()"
      ],
      "execution_count": 20,
      "outputs": [
        {
          "output_type": "display_data",
          "data": {
            "image/png": "[encoded data removed]",
            "text/plain": [
              "<Figure size 432x288 with 1 Axes>"
            ]
          },
          "metadata": {
            "tags": [],
            "needs_background": "light"
          }
        }
      ]
    },
    {
      "cell_type": "markdown",
      "metadata": {
        "id": "CzaSbbVq7MjE"
      },
      "source": [
        "Тест Шапиро-Вилка"
      ]
    },
    {
      "cell_type": "code",
      "metadata": {
        "colab": {
          "base_uri": "https://localhost:8080/"
        },
        "id": "DR7gFZiv7PKA",
        "outputId": "232f6d94-696c-4c0e-9565-76b3f6c00d3d"
      },
      "source": [
        "from scipy.stats import shapiro\n",
        "\n",
        "stat, p = shapiro(nmp_gross_sorted)\n",
        "print('Statistics=%.3f, p = %.3f' % (stat, p))\n",
        "\n",
        "alpha = 0.05\n",
        "if p > alpha:\n",
        "  print('Sample looks Gaussian (fail to reject HO)')\n",
        "else:\n",
        "  print('Sample does not look Gaussian (reject HO)')"
      ],
      "execution_count": 21,
      "outputs": [
        {
          "output_type": "stream",
          "text": [
            "Statistics=0.820, p = 0.000\n",
            "Sample does not look Gaussian (reject HO)\n"
          ],
          "name": "stdout"
        }
      ]
    },
    {
      "cell_type": "code",
      "metadata": {
        "colab": {
          "base_uri": "https://localhost:8080/"
        },
        "id": "BhBLuQyF7TtA",
        "outputId": "c578b132-3b7a-4c1d-c28d-78a246ea2838"
      },
      "source": [
        "from scipy.stats import shapiro\n",
        "\n",
        "stat, p = shapiro(nmp_year_sorted)\n",
        "print('Statistics=%.3f, p = %.3f' % (stat, p))\n",
        "\n",
        "alpha = 0.05\n",
        "if p > alpha:\n",
        "  print('Sample looks Gaussian (fail to reject HO)')\n",
        "else:\n",
        "  print('Sample does not look Gaussian (reject HO)')"
      ],
      "execution_count": 22,
      "outputs": [
        {
          "output_type": "stream",
          "text": [
            "Statistics=0.971, p = 0.566\n",
            "Sample looks Gaussian (fail to reject HO)\n"
          ],
          "name": "stdout"
        }
      ]
    },
    {
      "cell_type": "markdown",
      "metadata": {
        "id": "KP0CmVru7aaM"
      },
      "source": [
        "Тест Андерсона-Дарлинга"
      ]
    },
    {
      "cell_type": "code",
      "metadata": {
        "colab": {
          "base_uri": "https://localhost:8080/"
        },
        "id": "ro-vEHk67XzD",
        "outputId": "c45b5e7e-b463-4fe0-f0d1-27ec5bacfc05"
      },
      "source": [
        "from scipy.stats import anderson\n",
        "result = anderson(nmp_gross_sorted)\n",
        "print('Statistic: %.3f' % result.statistic)\n",
        "\n",
        "p = 0\n",
        "for i in range(len(result.critical_values)):\n",
        "  sl, cv = result.significance_level[i], result.critical_values[i]\n",
        "  if result.statistic < result.critical_values[i]:\n",
        "    print('%.3f: %.3f, data looks normal (fail to reject HO)' % (sl, cv))\n",
        "  else:\n",
        "    print('%.3f: %.3f, data does not look normal (reject HO)' % (sl, cv))"
      ],
      "execution_count": 23,
      "outputs": [
        {
          "output_type": "stream",
          "text": [
            "Statistic: 1.799\n",
            "15.000: 0.521, data does not look normal (reject HO)\n",
            "10.000: 0.593, data does not look normal (reject HO)\n",
            "5.000: 0.712, data does not look normal (reject HO)\n",
            "2.500: 0.830, data does not look normal (reject HO)\n",
            "1.000: 0.988, data does not look normal (reject HO)\n"
          ],
          "name": "stdout"
        }
      ]
    },
    {
      "cell_type": "code",
      "metadata": {
        "colab": {
          "base_uri": "https://localhost:8080/"
        },
        "id": "DHja8ETb7hE_",
        "outputId": "541c9dd0-72d9-4e76-b0f9-23b27daf6cfb"
      },
      "source": [
        "from scipy.stats import anderson\n",
        "\n",
        "result = anderson(nmp_year_sorted)\n",
        "print('Statistic: %.3f' % result.statistic)\n",
        "\n",
        "p = 0\n",
        "for i in range(len(result.critical_values)):\n",
        "  sl, cv = result.significance_level[i], result.critical_values[i]\n",
        "  if result.statistic < result.critical_values[i]:\n",
        "    print('%.3f: %.3f, data looks normal (fail to reject HO)' % (sl, cv))\n",
        "  else:\n",
        "    print('%.3f: %.3f, data does not look normal (reject HO)' % (sl, cv))"
      ],
      "execution_count": 24,
      "outputs": [
        {
          "output_type": "stream",
          "text": [
            "Statistic: 0.257\n",
            "15.000: 0.521, data looks normal (fail to reject HO)\n",
            "10.000: 0.593, data looks normal (fail to reject HO)\n",
            "5.000: 0.712, data looks normal (fail to reject HO)\n",
            "2.500: 0.830, data looks normal (fail to reject HO)\n",
            "1.000: 0.988, data looks normal (fail to reject HO)\n"
          ],
          "name": "stdout"
        }
      ]
    },
    {
      "cell_type": "markdown",
      "metadata": {
        "id": "f_CgvDIg8G2r"
      },
      "source": [
        "Тест Д'Агостино"
      ]
    },
    {
      "cell_type": "code",
      "metadata": {
        "colab": {
          "base_uri": "https://localhost:8080/"
        },
        "id": "9UEpigr88GgY",
        "outputId": "883817bd-b1fa-47eb-e5ca-1a581349e93e"
      },
      "source": [
        "from scipy.stats import normaltest\n",
        "\n",
        "stat, p = normaltest(nmp_gross_sorted)\n",
        "print('Statistics=%.3f, p = %.3f' % (stat, p))\n",
        "\n",
        "alpha = 0.05\n",
        "if p > alpha:\n",
        "  print('Sample looks Gaussian (fail to reject HO)')\n",
        "else:\n",
        "  print('Sample does not look Gaussian (reject HO)')"
      ],
      "execution_count": 25,
      "outputs": [
        {
          "output_type": "stream",
          "text": [
            "Statistics=13.588, p = 0.001\n",
            "Sample does not look Gaussian (reject HO)\n"
          ],
          "name": "stdout"
        }
      ]
    },
    {
      "cell_type": "code",
      "metadata": {
        "colab": {
          "base_uri": "https://localhost:8080/"
        },
        "id": "kpAeye3l8r6T",
        "outputId": "261f5262-a4aa-4683-bc74-e4df2076ba79"
      },
      "source": [
        "from scipy.stats import normaltest\n",
        "\n",
        "stat, p = normaltest(nmp_year_sorted)\n",
        "print('Statistics=%.3f, p = %.3f' % (stat, p))\n",
        "\n",
        "alpha = 0.05\n",
        "if p > alpha:\n",
        "  print('Sample looks Gaussian (fail to reject HO)')\n",
        "else:\n",
        "  print('Sample does not look Gaussian (reject HO)')"
      ],
      "execution_count": 26,
      "outputs": [
        {
          "output_type": "stream",
          "text": [
            "Statistics=1.499, p = 0.473\n",
            "Sample looks Gaussian (fail to reject HO)\n"
          ],
          "name": "stdout"
        }
      ]
    }
  ]
}