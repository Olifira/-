{
  "nbformat": 4,
  "nbformat_minor": 0,
  "metadata": {
    "colab": {
      "name": "пр_олифир",
      "provenance": [],
      "collapsed_sections": []
    },
    "kernelspec": {
      "name": "python3",
      "display_name": "Python 3"
    }
  },
  "cells": [
    {
      "cell_type": "markdown",
      "metadata": {
        "id": "x8sWUPkfo7vG"
      },
      "source": [
        "Напишите небольшую объектно-ориентрированную программку, демонстрирующую наследство и полиморфизм. Вариант 12 "
      ]
    },
    {
      "cell_type": "code",
      "metadata": {
        "colab": {
          "base_uri": "https://localhost:8080/"
        },
        "id": "bWX9M0_hoy2T",
        "outputId": "b6d9d452-f482-4930-f82a-98c3e7284e81"
      },
      "source": [
        "class Motor:\n",
        "  def __init__(self, p):\n",
        "    self.power = p                #мощность\n",
        "\n",
        "class InternalEngine(Motor):\n",
        "  def __init__(self, p, o):\n",
        "    Motor.__init__(self, p)\n",
        "    self.oil = o                  #расход масла\n",
        "\n",
        "class Diesel(InternalEngine):\n",
        "  def time(self):                 #промежуток времени\n",
        "    return self.oil / self.power\n",
        "\n",
        "class Reactive(InternalEngine):\n",
        "  def time(self):\n",
        "    return Diesel.time(self) + 4\n",
        "\n",
        "d = Diesel(10, 20)\n",
        "print(d.time())\n",
        "r = Reactive(15, 30)\n",
        "print(r.time())"
      ],
      "execution_count": 5,
      "outputs": [
        {
          "output_type": "stream",
          "text": [
            "2.0\n",
            "6.0\n"
          ],
          "name": "stdout"
        }
      ]
    }
  ]
}